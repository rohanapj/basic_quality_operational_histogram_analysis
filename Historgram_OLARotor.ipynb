{
  "nbformat": 4,
  "nbformat_minor": 0,
  "metadata": {
    "colab": {
      "provenance": [],
      "authorship_tag": "ABX9TyNqds+xhSTI27uO9R59YvF0",
      "include_colab_link": true
    },
    "kernelspec": {
      "name": "python3",
      "display_name": "Python 3"
    },
    "language_info": {
      "name": "python"
    }
  },
  "cells": [
    {
      "cell_type": "markdown",
      "metadata": {
        "id": "view-in-github",
        "colab_type": "text"
      },
      "source": [
        "<a href=\"https://colab.research.google.com/github/rohanapj/basic_quality_operational_histogram_analysis/blob/main/Historgram_OLARotor.ipynb\" target=\"_parent\"><img src=\"https://colab.research.google.com/assets/colab-badge.svg\" alt=\"Open In Colab\"/></a>"
      ]
    },
    {
      "cell_type": "code",
      "execution_count": 1,
      "metadata": {
        "id": "qUeY8CL535Xk"
      },
      "outputs": [],
      "source": [
        "import pandas as pd\n",
        "import numpy as np\n",
        "import matplotlib.pyplot as plt\n",
        "import seaborn as sns"
      ]
    },
    {
      "cell_type": "code",
      "source": [
        "df1 = pd.read_excel('OLA_SPC_Act.xlsx')\n",
        "df1.head()"
      ],
      "metadata": {
        "id": "haj4Ed2i4GBE"
      },
      "execution_count": null,
      "outputs": []
    },
    {
      "cell_type": "code",
      "source": [
        "df1['OLA_Height'].plot(kind='hist', bins=5, alpha=0.2, color ='y')\n",
        "df1['OLA_Height'].plot(kind='hist',bins=20, alpha=0.5, color = 'y')\n",
        "df1['OLA_Height'].plot.hist(bins=100, alpha = 1, color ='black')\n",
        "\n",
        "plt.title('OLA Rotor Stack Bins Segmented Histogram') \n",
        "plt.xlabel(\"Stack Height 100 +1/0 mm\", alpha=0.6, color='black')\n",
        "plt.ylabel(\"Frequency - Bins\", alpha=0.6, color='black')\n"
      ],
      "metadata": {
        "colab": {
          "base_uri": "https://localhost:8080/",
          "height": 312
        },
        "id": "IZNXmMJTdNFb",
        "outputId": "82ffc14b-9368-497a-ef1e-e8a1005fc19d"
      },
      "execution_count": 54,
      "outputs": [
        {
          "output_type": "execute_result",
          "data": {
            "text/plain": [
              "Text(0, 0.5, 'Frequency - Bins')"
            ]
          },
          "metadata": {},
          "execution_count": 54
        },
        {
          "output_type": "display_data",
          "data": {
            "text/plain": [
              "<Figure size 432x288 with 1 Axes>"
            ],
            "image/png": "[encoded data removed]"
          },
          "metadata": {
            "needs_background": "light"
          }
        }
      ]
    },
    {
      "cell_type": "code",
      "source": [],
      "metadata": {
        "id": "-5ziJ25rkZ-h"
      },
      "execution_count": null,
      "outputs": []
    }
  ]
}